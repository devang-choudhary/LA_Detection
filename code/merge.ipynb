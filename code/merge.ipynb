{
 "cells": [
  {
   "cell_type": "code",
   "execution_count": 3,
   "metadata": {},
   "outputs": [],
   "source": [
    "import pandas as pd\n",
    "import numpy as np\n"
   ]
  },
  {
   "cell_type": "code",
   "execution_count": 1,
   "metadata": {},
   "outputs": [],
   "source": [
    "a = {\n",
    "    \"buildship\": \"https://github.com/eclipse/steady.git\",\n",
    "    \"eclips-collections\": \"https://github.com/eclipse/eclipse-collections.git\",\n",
    "    \"hawkbit\": \"https://github.com/eclipse/hawkbit.git\",\n",
    "    \"jkube\": \"https://github.com/eclipse/jkube.git\",\n",
    "    \"kura\": \"https://github.com/eclipse/kura.git\",\n",
    "    \"jifa\": \"https://github.com/eclipse/microprofile.git\",\n",
    "    \"milo\": \"https://github.com/eclipse/milo.git\",\n",
    "    \"openvsx\": \"https://github.com/eclipse/openvsx.git\",\n",
    "    \"steady\": \"https://github.com/eclipse/steady.git\",\n",
    "    \"xtext\": \"https://github.com/eclipse/xtext.git\"\n",
    "}"
   ]
  },
  {
   "cell_type": "code",
   "execution_count": 7,
   "metadata": {},
   "outputs": [],
   "source": [
    "# Step 3: Adjust the 'category' field based on conditions\n",
    "def adjust_category(row):\n",
    "    if pd.notna(row['category_df1']) and row['category_df1'] == \"DOS\":\n",
    "        return \"DOS\" if pd.isna(row['category_df2']) else f\"DOS,{row['category_df2']}\"\n",
    "    return row['category_df2'] if pd.notna(row['category_df2']) else \"\"\n",
    "\n",
    "\n",
    "def merge_dataframes(df1, df2):\n",
    "    # Step 1: Rename 'label' in df1 to 'category' for uniformity and drop 'label' from df1 if it exists\n",
    "    df1 = df1.rename(columns={'label': 'category'})\n",
    "    df1['category'] = df1['category'].apply(lambda x: \"DOS\" if x == \"positive\" else \"\")\n",
    "\n",
    "    # Step 2: Merge the DataFrames on specified columns\n",
    "    merged_df = pd.merge(df1, df2, \n",
    "                        on=[\"content\", \"method_name\", \"parameters\", \"access_modifier\"], \n",
    "                        how='outer', \n",
    "                        suffixes=('_df1', '_df2'))\n",
    "\n",
    "\n",
    "\n",
    "    "
   ]
  },
  {
   "cell_type": "markdown",
   "metadata": {},
   "source": [
    "MODEl Implementation (Multi label model)"
   ]
  },
  {
   "cell_type": "code",
   "execution_count": 2,
   "metadata": {},
   "outputs": [],
   "source": [
    "import ktrain\n",
    "import pandas as pd\n",
    "from ktrain import tabular\n",
    "import numpy as np\n",
    "import pandas   as pd\n",
    "from sklearn.utils import shuffle\n",
    "from sklearn.metrics import matthews_corrcoef, roc_auc_score\n",
    "from sklearn.metrics import roc_curve, auc\n",
    "import matplotlib.pyplot as plt"
   ]
  },
  {
   "cell_type": "code",
   "execution_count": 3,
   "metadata": {},
   "outputs": [],
   "source": [
    "def get_model(a,project):\n",
    "    # load the model\n",
    "    df = pd.read_csv(f'../data/{project}_final.csv')\n",
    "    # drop all rows in df\n",
    "    df = df.drop(df.index)\n",
    "    print(df.shape)\n",
    "    for p,u in a.items():\n",
    "        if p == project:\n",
    "            continue\n",
    "        df1 = pd.read_csv(f'../data/{p}_final.csv')\n",
    "        df = pd.concat([df,df1])\n",
    "    df = df.drop(columns=['comments'],axis=1)\n",
    "\n",
    "    \n",
    "    train_df = shuffle(df)\n",
    "    test_df = pd.read_csv(f'../data/{project}_final.csv')\n",
    "    test_df = test_df.drop(columns=['comments'],axis=1)\n",
    "\n",
    "    test_df['index'] = test_df.index\n",
    "    train_df['index'] = train_df.index  \n",
    "    return train_df, test_df"
   ]
  },
  {
   "cell_type": "code",
   "execution_count": 10,
   "metadata": {},
   "outputs": [],
   "source": [
    "def get_lean(train_df,test_df):\n",
    "    print(test_df.iloc[1])\n",
    "    trn,val,preproc = tabular.tabular_from_df(train_df, label_columns=['is','set','get','DOS'], random_state=42)\n",
    "    model  = tabular.tabular_classifier(name='mlp',multilabel=True,train_data=trn,hidden_layers=[1000,1000,500],hidden_dropouts=[0.2,0.5,0.5])\n",
    "    learner = ktrain.get_learner(model,train_data=trn,val_data=val,batch_size=32)\n",
    "    # learner.lr_find(show_plot=True, max_epochs=5)\n",
    "    # data = {\"get\":0,\"is\":1,\"not_LA\":2,\"set\":3}\n",
    "    print(preproc.get_classes())\n",
    "    learner.fit_onecycle(5e-3, 1)\n",
    "    print(learner.evaluate(val, class_names=preproc.get_classes()))\n",
    "    predictor = ktrain.get_predictor(learner.model, preproc)\n",
    "    return predictor"
   ]
  },
  {
   "cell_type": "code",
   "execution_count": 5,
   "metadata": {},
   "outputs": [],
   "source": [
    "def model_save(predictor,test_df,output_file):\n",
    "    print()\n",
    "    print()\n",
    "    model_path = f'model/{output_file}_final_model'\n",
    "    print(model_path)\n",
    "    print()\n",
    "    print()\n",
    "    predictor.save(model_path)"
   ]
  },
  {
   "cell_type": "code",
   "execution_count": 11,
   "metadata": {},
   "outputs": [
    {
     "name": "stdout",
     "output_type": "stream",
     "text": [
      "the project is buildship\n",
      "(0, 11)\n",
      "access_modifier                                               static\n",
      "method_name                                           getArtifactUri\n",
      "parameters                              String g, String a, String v\n",
      "content            private static String getArtifactUri(String g,...\n",
      "return_type                                                     void\n",
      "returns                                                   return s; \n",
      "is                                                                 0\n",
      "set                                                                0\n",
      "get                                                                1\n",
      "DOS                                                                0\n",
      "index                                                              1\n",
      "Name: 1, dtype: object\n",
      "processing train: 130271 rows x 11 columns\n",
      "['is', 'set', 'get', 'DOS']\n",
      "       is  set  get  DOS\n",
      "2257    0    0    0    1\n",
      "16950   0    0    0    0\n",
      "70485   0    0    0    0\n",
      "87935   0    0    0    0\n",
      "14543   0    0    1    1\n",
      "processing test: 14267 rows x 11 columns\n",
      "['is', 'set', 'get', 'DOS']\n",
      "       is  set  get  DOS\n",
      "2728    0    0    0    0\n",
      "5459    0    0    0    0\n",
      "55951   1    0    0    0\n",
      "64070   0    0    1    0\n",
      "21358   0    0    0    1\n",
      "Is Multi-Label? True\n",
      "done.\n",
      "['is', 'set', 'get', 'DOS']\n",
      "\n",
      "\n",
      "begin training using onecycle policy with max lr of 0.005...\n",
      "4071/4071 [==============================] - 138s 34ms/step - loss: 0.1361 - binary_accuracy: 0.9413 - val_loss: 0.8995 - val_binary_accuracy: 0.9143\n",
      "446/446 [==============================] - 1s 3ms/step\n",
      "              precision    recall  f1-score   support\n",
      "\n",
      "          is       0.90      0.73      0.81      2116\n",
      "         set       0.98      0.90      0.94       913\n",
      "         get       0.50      0.91      0.64      2985\n",
      "         DOS       0.95      0.54      0.69      2092\n",
      "\n",
      "   micro avg       0.67      0.77      0.72      8106\n",
      "   macro avg       0.83      0.77      0.77      8106\n",
      "weighted avg       0.77      0.77      0.73      8106\n",
      " samples avg       0.41      0.41      0.41      8106\n",
      "\n",
      "None\n",
      "\n",
      "\n",
      "model/buildship_final_model\n",
      "\n",
      "\n"
     ]
    },
    {
     "name": "stderr",
     "output_type": "stream",
     "text": [
      "/Users/devang/miniconda3/envs/flask/lib/python3.11/site-packages/sklearn/metrics/_classification.py:1471: UndefinedMetricWarning: Precision and F-score are ill-defined and being set to 0.0 in samples with no predicted labels. Use `zero_division` parameter to control this behavior.\n",
      "  _warn_prf(average, modifier, msg_start, len(result))\n",
      "/Users/devang/miniconda3/envs/flask/lib/python3.11/site-packages/sklearn/metrics/_classification.py:1471: UndefinedMetricWarning: Recall and F-score are ill-defined and being set to 0.0 in samples with no true labels. Use `zero_division` parameter to control this behavior.\n",
      "  _warn_prf(average, modifier, msg_start, len(result))\n",
      "/Users/devang/miniconda3/envs/flask/lib/python3.11/site-packages/ktrain/core.py:226: UserWarning: Confusion matrices do not currently support multilabel classification, so returning None\n",
      "  warnings.warn(\n",
      "/Users/devang/miniconda3/envs/flask/lib/python3.11/site-packages/keras/src/engine/training.py:3103: UserWarning: You are saving your model as an HDF5 file via `model.save()`. This file format is considered legacy. We recommend using instead the native Keras format, e.g. `model.save('my_model.keras')`.\n",
      "  saving_api.save_model(\n"
     ]
    }
   ],
   "source": [
    "a = {\n",
    "    \"buildship\": \" \", \n",
    "    \"eclips-collections\": \" \",\n",
    "    \"jifa\": \" \",\n",
    "    \"jkube\": \" \",\n",
    "    \"hawkbit\": \"https://github.com/eclipse/hawkbit.git\",\n",
    "    \"kura\": \"https://github.com/eclipse/kura.git\",\n",
    "    \"milo\": \"https://github.com/eclipse/milo.git\",\n",
    "    \"openvsx\": \"https://github.com/eclipse/openvsx.git\",\n",
    "    \"steady\": \"https://github.com/eclipse/steady.git\",\n",
    "    \"xtext\": \"https://github.com/eclipse/xtext.git\"\n",
    "}\n",
    "for project,url in a.items():\n",
    "    print(f\"the project is {project}\")\n",
    "    train_df,test_df = get_model(a,project)\n",
    "    predictor = get_lean(train_df,test_df)\n",
    "    model_save(predictor,test_df,project)\n",
    "    break"
   ]
  },
  {
   "cell_type": "code",
   "execution_count": 2,
   "metadata": {},
   "outputs": [
    {
     "name": "stdout",
     "output_type": "stream",
     "text": [
      "On branch main\n",
      "Your branch is ahead of 'origin/main' by 7 commits.\n",
      "  (use \"git push\" to publish your local commits)\n",
      "\n",
      "Changes to be committed:\n",
      "  (use \"git restore --staged <file>...\" to unstage)\n",
      "\t\u001b[32mmodified:   DecisionTree_content.ipynb\u001b[m\n",
      "\t\u001b[32mmodified:   Logistic_regression_content.ipynb\u001b[m\n",
      "\t\u001b[32mmodified:   SVM_content.ipynb\u001b[m\n",
      "\t\u001b[32mnew file:   adaboost.ipynb\u001b[m\n",
      "\t\u001b[32mmodified:   app.py\u001b[m\n",
      "\t\u001b[32mmodified:   code_bert copy.ipynb\u001b[m\n",
      "\t\u001b[32mmodified:   code_bert_execution_part1.ipynb\u001b[m\n",
      "\t\u001b[32mmodified:   eval.ipynb\u001b[m\n",
      "\t\u001b[32mmodified:   gpt_labeling.ipynb\u001b[m\n",
      "\t\u001b[32mmodified:   knn_content.ipynb\u001b[m\n",
      "\t\u001b[32mnew file:   kura\u001b[m\n",
      "\t\u001b[32mnew file:   kura_info.txt\u001b[m\n",
      "\t\u001b[32mmodified:   merge.ipynb\u001b[m\n",
      "\t\u001b[32mmodified:   merge_content.ipynb\u001b[m\n",
      "\t\u001b[32mmodified:   merge_features.ipynb\u001b[m\n",
      "\t\u001b[32mmodified:   milo_eval.csv\u001b[m\n",
      "\t\u001b[32mnew file:   model/buildship_final_model/tf_model.h5\u001b[m\n",
      "\t\u001b[32mnew file:   model/buildship_final_model/tf_model.preproc\u001b[m\n",
      "\t\u001b[32mnew file:   suject_application_states.png\u001b[m\n",
      "\t\u001b[32mmodified:   temp1_featers.ipynb\u001b[m\n",
      "\n",
      "Changes not staged for commit:\n",
      "  (use \"git add/rm <file>...\" to update what will be committed)\n",
      "  (use \"git restore <file>...\" to discard changes in working directory)\n",
      "\t\u001b[31mmodified:   ../.DS_Store\u001b[m\n",
      "\t\u001b[31mmodified:   ../.gitignore\u001b[m\n",
      "\t\u001b[31mmodified:   adaboost.ipynb\u001b[m\n",
      "\t\u001b[31mmodified:   app.py\u001b[m\n",
      "\t\u001b[31mmodified:   code_bert copy.ipynb\u001b[m\n",
      "\t\u001b[31mmodified:   eval.ipynb\u001b[m\n",
      "\t\u001b[31mmodified:   merge.ipynb\u001b[m\n",
      "\t\u001b[31mdeleted:    milo1_data.csv\u001b[m\n",
      "\t\u001b[31mdeleted:    milo2_data.csv\u001b[m\n",
      "\t\u001b[31mdeleted:    milo3_data.csv\u001b[m\n",
      "\t\u001b[31mdeleted:    milo4_data.csv\u001b[m\n",
      "\t\u001b[31mdeleted:    milo5_data.csv\u001b[m\n",
      "\t\u001b[31mmodified:   milo_eval.csv\u001b[m\n",
      "\t\u001b[31mmodified:   milo_info.txt\u001b[m\n",
      "\t\u001b[31mmodified:   repodownloader.py\u001b[m\n",
      "\t\u001b[31mmodified:   temp1_featers.ipynb\u001b[m\n",
      "\n",
      "Untracked files:\n",
      "  (use \"git add <file>...\" to include in what will be committed)\n",
      "\t\u001b[31m../client_secret_531804645517-17hlm66k4vq2iqp6ic4i0h3k6binim4s.apps.googleusercontent.com.json\u001b[m\n",
      "\t\u001b[31mcda_info.txt\u001b[m\n",
      "\t\u001b[31mda_info.txt\u001b[m\n",
      "\t\u001b[31mds/\u001b[m\n",
      "\t\u001b[31mds_info.txt\u001b[m\n",
      "\t\u001b[31mmilo/\u001b[m\n",
      "\t\u001b[31msa_info.txt\u001b[m\n",
      "\t\u001b[31m../model/\u001b[m\n",
      "\t\u001b[31m../output_DMS1.png\u001b[m\n",
      "\t\u001b[31m../output_DOS.png\u001b[m\n",
      "\t\u001b[31m../train.csv\u001b[m\n",
      "\n"
     ]
    }
   ],
   "source": [
    "!git status"
   ]
  },
  {
   "cell_type": "code",
   "execution_count": 4,
   "metadata": {},
   "outputs": [
    {
     "name": "stdout",
     "output_type": "stream",
     "text": [
      "warning: adding embedded git repository: code/ds\n",
      "\u001b[33mhint: You've added another git repository inside your current repository.\u001b[m\n",
      "\u001b[33mhint: Clones of the outer repository will not contain the contents of\u001b[m\n",
      "\u001b[33mhint: the embedded repository and will not know how to obtain it.\u001b[m\n",
      "\u001b[33mhint: If you meant to add a submodule, use:\u001b[m\n",
      "\u001b[33mhint: \u001b[m\n",
      "\u001b[33mhint: \tgit submodule add <url> code/ds\u001b[m\n",
      "\u001b[33mhint: \u001b[m\n",
      "\u001b[33mhint: If you added this path by mistake, you can remove it from the\u001b[m\n",
      "\u001b[33mhint: index with:\u001b[m\n",
      "\u001b[33mhint: \u001b[m\n",
      "\u001b[33mhint: \tgit rm --cached code/ds\u001b[m\n",
      "\u001b[33mhint: \u001b[m\n",
      "\u001b[33mhint: See \"git help submodule\" for more information.\u001b[m\n",
      "warning: adding embedded git repository: code/milo\n"
     ]
    }
   ],
   "source": [
    "!git add ."
   ]
  },
  {
   "cell_type": "code",
   "execution_count": 6,
   "metadata": {},
   "outputs": [
    {
     "name": "stdout",
     "output_type": "stream",
     "text": [
      "[main f48bc58] completed code\n",
      " 33 files changed, 324330 insertions(+), 374283 deletions(-)\n",
      " create mode 100644 code/adaboost.ipynb\n",
      " create mode 100644 code/cda_info.txt\n",
      " create mode 100644 code/da_info.txt\n",
      " create mode 160000 code/ds\n",
      " create mode 100644 code/ds_info.txt\n",
      " create mode 160000 code/kura\n",
      " create mode 100644 code/kura_info.txt\n",
      " create mode 160000 code/milo\n",
      " delete mode 100644 code/milo1_data.csv\n",
      " delete mode 100644 code/milo2_data.csv\n",
      " delete mode 100644 code/milo3_data.csv\n",
      " delete mode 100644 code/milo4_data.csv\n",
      " delete mode 100644 code/milo5_data.csv\n",
      " create mode 100644 code/model/buildship_final_model/tf_model.h5\n",
      " create mode 100644 code/model/buildship_final_model/tf_model.preproc\n",
      " create mode 100644 code/sa_info.txt\n",
      " create mode 100644 code/suject_application_states.png\n"
     ]
    }
   ],
   "source": [
    "!git commit -m \"completed code\""
   ]
  },
  {
   "cell_type": "code",
   "execution_count": 7,
   "metadata": {},
   "outputs": [
    {
     "name": "stdout",
     "output_type": "stream",
     "text": [
      "Enumerating objects: 229, done.\n",
      "Counting objects: 100% (229/229), done.\n",
      "Delta compression using up to 8 threads\n",
      "Compressing objects: 100% (192/192), done.\n",
      "error: RPC failed; HTTP 400 curl 22 The requested URL returned error: 400\n",
      "send-pack: unexpected disconnect while reading sideband packet\n",
      "Writing objects: 100% (213/213), 12.43 GiB | 47.87 MiB/s, done.\n",
      "Total 213 (delta 105), reused 19 (delta 0), pack-reused 0\n",
      "fatal: the remote end hung up unexpectedly\n",
      "Everything up-to-date\n"
     ]
    }
   ],
   "source": [
    "!git push"
   ]
  }
 ],
 "metadata": {
  "kernelspec": {
   "display_name": "flask",
   "language": "python",
   "name": "python3"
  },
  "language_info": {
   "codemirror_mode": {
    "name": "ipython",
    "version": 3
   },
   "file_extension": ".py",
   "mimetype": "text/x-python",
   "name": "python",
   "nbconvert_exporter": "python",
   "pygments_lexer": "ipython3",
   "version": "3.11.4"
  }
 },
 "nbformat": 4,
 "nbformat_minor": 2
}
