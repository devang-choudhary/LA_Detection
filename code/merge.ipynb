{
 "cells": [
  {
   "cell_type": "code",
   "execution_count": 3,
   "metadata": {},
   "outputs": [],
   "source": [
    "import pandas as pd\n",
    "import numpy as np\n"
   ]
  },
  {
   "cell_type": "code",
   "execution_count": 1,
   "metadata": {},
   "outputs": [],
   "source": [
    "a = {\n",
    "    \"buildship\": \"https://github.com/eclipse/steady.git\",\n",
    "    \"eclips-collections\": \"https://github.com/eclipse/eclipse-collections.git\",\n",
    "    \"hawkbit\": \"https://github.com/eclipse/hawkbit.git\",\n",
    "    \"jkube\": \"https://github.com/eclipse/jkube.git\",\n",
    "    \"kura\": \"https://github.com/eclipse/kura.git\",\n",
    "    \"jifa\": \"https://github.com/eclipse/microprofile.git\",\n",
    "    \"milo\": \"https://github.com/eclipse/milo.git\",\n",
    "    \"openvsx\": \"https://github.com/eclipse/openvsx.git\",\n",
    "    \"steady\": \"https://github.com/eclipse/steady.git\",\n",
    "    \"xtext\": \"https://github.com/eclipse/xtext.git\"\n",
    "}"
   ]
  },
  {
   "cell_type": "code",
   "execution_count": 7,
   "metadata": {},
   "outputs": [],
   "source": [
    "# Step 3: Adjust the 'category' field based on conditions\n",
    "def adjust_category(row):\n",
    "    if pd.notna(row['category_df1']) and row['category_df1'] == \"DOS\":\n",
    "        return \"DOS\" if pd.isna(row['category_df2']) else f\"DOS,{row['category_df2']}\"\n",
    "    return row['category_df2'] if pd.notna(row['category_df2']) else \"\"\n",
    "\n",
    "\n",
    "def merge_dataframes(df1, df2):\n",
    "    # Step 1: Rename 'label' in df1 to 'category' for uniformity and drop 'label' from df1 if it exists\n",
    "    df1 = df1.rename(columns={'label': 'category'})\n",
    "    df1['category'] = df1['category'].apply(lambda x: \"DOS\" if x == \"positive\" else \"\")\n",
    "\n",
    "    # Step 2: Merge the DataFrames on specified columns\n",
    "    merged_df = pd.merge(df1, df2, \n",
    "                        on=[\"content\", \"method_name\", \"parameters\", \"access_modifier\"], \n",
    "                        how='outer', \n",
    "                        suffixes=('_df1', '_df2'))\n",
    "\n",
    "\n",
    "\n",
    "    "
   ]
  },
  {
   "cell_type": "markdown",
   "metadata": {},
   "source": [
    "MODEl Implementation (Multi label model)"
   ]
  },
  {
   "cell_type": "code",
   "execution_count": 7,
   "metadata": {},
   "outputs": [],
   "source": [
    "import ktrain\n",
    "import pandas as pd\n",
    "from ktrain import tabular\n",
    "import numpy as np\n",
    "import pandas   as pd\n",
    "from sklearn.utils import shuffle\n",
    "from sklearn.metrics import matthews_corrcoef, roc_auc_score\n",
    "from sklearn.metrics import roc_curve, auc\n",
    "import matplotlib.pyplot as plt"
   ]
  },
  {
   "cell_type": "code",
   "execution_count": 8,
   "metadata": {},
   "outputs": [],
   "source": [
    "def get_model(a,project):\n",
    "    # load the model\n",
    "    df = pd.read_csv(f'../final_Data/{project}_final.csv')\n",
    "    # drop all rows in df\n",
    "    df = df.drop(df.index)\n",
    "    print(df.shape)\n",
    "    for p,u in a.items():\n",
    "        if p == project:\n",
    "            continue\n",
    "        df1 = pd.read_csv(f'../final_Data/{p}_final.csv')\n",
    "        df = pd.concat([df,df1])\n",
    "    df = df.drop(columns=['comments'],axis=1)\n",
    "\n",
    "    \n",
    "    train_df = shuffle(df)\n",
    "    test_df = pd.read_csv(f'../final_Data/{project}_final.csv')\n",
    "    test_df = test_df.drop(columns=['comments'],axis=1)\n",
    "\n",
    "    test_df['index'] = test_df.index\n",
    "    train_df['index'] = train_df.index  \n",
    "    return train_df, test_df"
   ]
  },
  {
   "cell_type": "code",
   "execution_count": 9,
   "metadata": {},
   "outputs": [],
   "source": [
    "def get_lean(train_df,test_df):\n",
    "    print(test_df.iloc[1])\n",
    "    trn,val,preproc = tabular.tabular_from_df(train_df, label_columns=['is','set','get','DOS'], random_state=42)\n",
    "    model  = tabular.tabular_classifier(name='mlp',multilabel=True,train_data=trn,hidden_layers=[1000,1000,500],hidden_dropouts=[0.2,0.5,0.5])\n",
    "    learner = ktrain.get_learner(model,train_data=trn,val_data=val,batch_size=32)\n",
    "    # learner.lr_find(show_plot=True, max_epochs=5)\n",
    "    # data = {\"get\":0,\"is\":1,\"not_LA\":2,\"set\":3}\n",
    "    print(preproc.get_classes())\n",
    "    learner.fit_onecycle(5e-3, 1)\n",
    "    print(learner.evaluate(val, class_names=preproc.get_classes()))\n",
    "    predictor = ktrain.get_predictor(learner.model, preproc)\n",
    "    return predictor"
   ]
  },
  {
   "cell_type": "code",
   "execution_count": 10,
   "metadata": {},
   "outputs": [],
   "source": [
    "def model_save(predictor,test_df,output_file):\n",
    "    print()\n",
    "    print()\n",
    "    model_path = f'model/{output_file}_final_model'\n",
    "    print(model_path)\n",
    "    print()\n",
    "    print()\n",
    "    predictor.save(model_path)"
   ]
  },
  {
   "cell_type": "code",
   "execution_count": 11,
   "metadata": {},
   "outputs": [
    {
     "name": "stdout",
     "output_type": "stream",
     "text": [
      "the project is buildship\n",
      "(0, 11)\n",
      "access_modifier                                               static\n",
      "method_name                                           getArtifactUri\n",
      "parameters                              String g, String a, String v\n",
      "content            private static String getArtifactUri(String g,...\n",
      "return_type                                                     void\n",
      "returns                                                   return s; \n",
      "is                                                                 0\n",
      "set                                                                0\n",
      "get                                                                1\n",
      "DOS                                                                0\n",
      "index                                                              1\n",
      "Name: 1, dtype: object\n",
      "processing train: 130271 rows x 11 columns\n",
      "['is', 'set', 'get', 'DOS']\n",
      "       is  set  get  DOS\n",
      "1120    0    0    1    1\n",
      "7054    0    0    1    0\n",
      "15048   1    0    0    0\n",
      "83297   0    0    0    0\n",
      "51467   0    0    1    0\n",
      "processing test: 14267 rows x 11 columns\n",
      "['is', 'set', 'get', 'DOS']\n",
      "       is  set  get  DOS\n",
      "10147   0    1    0    0\n",
      "2805    0    0    0    0\n",
      "19410   1    0    0    0\n",
      "3565    0    0    0    1\n",
      "6419    1    0    0    0\n",
      "Is Multi-Label? True\n",
      "done.\n",
      "['is', 'set', 'get', 'DOS']\n",
      "\n",
      "\n",
      "begin training using onecycle policy with max lr of 0.005...\n",
      "4071/4071 [==============================] - 128s 31ms/step - loss: 0.1345 - binary_accuracy: 0.9427 - val_loss: 0.7812 - val_binary_accuracy: 0.9189\n",
      "446/446 [==============================] - 1s 2ms/step\n",
      "              precision    recall  f1-score   support\n",
      "\n",
      "          is       0.84      0.90      0.87      2162\n",
      "         set       0.98      0.90      0.93       847\n",
      "         get       0.51      0.88      0.64      2924\n",
      "         DOS       0.93      0.52      0.67      2094\n",
      "\n",
      "   micro avg       0.68      0.79      0.73      8027\n",
      "   macro avg       0.81      0.80      0.78      8027\n",
      "weighted avg       0.76      0.79      0.74      8027\n",
      " samples avg       0.42      0.42      0.42      8027\n",
      "\n",
      "None\n",
      "\n",
      "\n",
      "model/buildship_final_model\n",
      "\n",
      "\n"
     ]
    },
    {
     "name": "stderr",
     "output_type": "stream",
     "text": [
      "/Users/devang/miniconda3/envs/flask/lib/python3.11/site-packages/sklearn/metrics/_classification.py:1471: UndefinedMetricWarning: Precision and F-score are ill-defined and being set to 0.0 in samples with no predicted labels. Use `zero_division` parameter to control this behavior.\n",
      "  _warn_prf(average, modifier, msg_start, len(result))\n",
      "/Users/devang/miniconda3/envs/flask/lib/python3.11/site-packages/sklearn/metrics/_classification.py:1471: UndefinedMetricWarning: Recall and F-score are ill-defined and being set to 0.0 in samples with no true labels. Use `zero_division` parameter to control this behavior.\n",
      "  _warn_prf(average, modifier, msg_start, len(result))\n",
      "/Users/devang/miniconda3/envs/flask/lib/python3.11/site-packages/ktrain/core.py:226: UserWarning: Confusion matrices do not currently support multilabel classification, so returning None\n",
      "  warnings.warn(\n",
      "/Users/devang/miniconda3/envs/flask/lib/python3.11/site-packages/keras/src/engine/training.py:3103: UserWarning: You are saving your model as an HDF5 file via `model.save()`. This file format is considered legacy. We recommend using instead the native Keras format, e.g. `model.save('my_model.keras')`.\n",
      "  saving_api.save_model(\n"
     ]
    }
   ],
   "source": [
    "a = {\n",
    "    \"buildship\": \" \", \n",
    "    \"eclips-collections\": \" \",\n",
    "    \"jifa\": \" \",\n",
    "    \"jkube\": \" \",\n",
    "    \"hawkbit\": \"https://github.com/eclipse/hawkbit.git\",\n",
    "    \"kura\": \"https://github.com/eclipse/kura.git\",\n",
    "    \"milo\": \"https://github.com/eclipse/milo.git\",\n",
    "    \"openvsx\": \"https://github.com/eclipse/openvsx.git\",\n",
    "    \"steady\": \"https://github.com/eclipse/steady.git\",\n",
    "    \"xtext\": \"https://github.com/eclipse/xtext.git\"\n",
    "}\n",
    "for project,url in a.items():\n",
    "    print(f\"the project is {project}\")\n",
    "    train_df,test_df = get_model(a,project)\n",
    "    predictor = get_lean(train_df,test_df)\n",
    "    model_save(predictor,test_df,project)\n",
    "    "
   ]
  }
 ],
 "metadata": {
  "kernelspec": {
   "display_name": "flask",
   "language": "python",
   "name": "python3"
  },
  "language_info": {
   "codemirror_mode": {
    "name": "ipython",
    "version": 3
   },
   "file_extension": ".py",
   "mimetype": "text/x-python",
   "name": "python",
   "nbconvert_exporter": "python",
   "pygments_lexer": "ipython3",
   "version": "3.11.4"
  }
 },
 "nbformat": 4,
 "nbformat_minor": 2
}
