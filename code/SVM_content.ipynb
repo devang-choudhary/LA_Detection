{
 "cells": [
  {
   "cell_type": "markdown",
   "metadata": {},
   "source": [
    "imports"
   ]
  },
  {
   "cell_type": "code",
   "execution_count": 1,
   "metadata": {},
   "outputs": [],
   "source": [
    "from sklearn.feature_extraction.text import TfidfVectorizer\n",
    "from sklearn.svm import SVC\n",
    "from sklearn.multioutput import MultiOutputClassifier\n",
    "from sklearn.metrics import classification_report\n",
    "import pandas as pd\n",
    "from sklearn.utils import shuffle"
   ]
  },
  {
   "cell_type": "code",
   "execution_count": 2,
   "metadata": {},
   "outputs": [],
   "source": [
    "def get_df(a,project):\n",
    "    df = pd.read_csv(f'../data/{project}_final.csv')\n",
    "    df = df.drop(df.index)\n",
    "    print(df.shape)\n",
    "    for p,u in a.items():\n",
    "        if p == project:\n",
    "            continue\n",
    "        df1 = pd.read_csv(f'../data/{p}_final.csv')\n",
    "        df = pd.concat([df,df1])\n",
    "    df = df.drop(columns=[\"access_modifier\",\"return_type\",\"method_name\",\"parameters\",\"returns\",\"comments\"],axis=1)\n",
    "    train_df = shuffle(df)\n",
    "    test_df = pd.read_csv(f'../data/{project}_final.csv')\n",
    "    test_df = test_df.drop(columns=[\"access_modifier\",\"return_type\",\"method_name\",\"parameters\",\"returns\",\"comments\"],axis=1)\n",
    "    return train_df, test_df"
   ]
  },
  {
   "cell_type": "code",
   "execution_count": 19,
   "metadata": {},
   "outputs": [],
   "source": [
    "from sklearn.feature_extraction.text import TfidfVectorizer\n",
    "from sklearn.svm import SVC\n",
    "from sklearn.multioutput import MultiOutputClassifier\n",
    "from sklearn.metrics import classification_report\n",
    "\n",
    "def model_(train_df, test_df):\n",
    "    tfidf_vectorizer = TfidfVectorizer(max_features=50)\n",
    "\n",
    "    # Transform the 'content' and then immediately drop the 'content' column\n",
    "    X_train = tfidf_vectorizer.fit_transform(train_df['content'])\n",
    "    train_labels = train_df.drop(columns=['content']).values\n",
    "\n",
    "    # Note: Use transform here, not fit_transform\n",
    "    X_test = tfidf_vectorizer.transform(test_df['content'])\n",
    "    test_labels = test_df.drop(columns=['content']).values\n",
    "\n",
    "    # Create the MultiOutputClassifier\n",
    "    svm_clf = SVC()\n",
    "    multi_target_svm = MultiOutputClassifier(svm_clf, n_jobs=-1)\n",
    "\n",
    "#     # Train the model\n",
    "    multi_target_svm.fit(X_train, train_labels)\n",
    "\n",
    "#     # Make predictions\n",
    "    predictions = multi_target_svm.predict(X_test)\n",
    "\n",
    "    print(classification_report(test_labels, predictions, target_names=['get', 'DOS', 'is', 'set']))\n",
    "\n",
    "# # Example usage:\n",
    "# # model_(train_df, test_df)\n"
   ]
  },
  {
   "cell_type": "code",
   "execution_count": 4,
   "metadata": {},
   "outputs": [],
   "source": [
    "a = {\n",
    "    \"buildship\": \"https://github.com/eclipse/steady.git\",\n",
    "    \"eclips-collections\": \"https://github.com/eclipse/eclipse-collections.git\",\n",
    "    \"hawkbit\": \"https://github.com/eclipse/hawkbit.git\",\n",
    "    \"jkube\": \"https://github.com/eclipse/jkube.git\",\n",
    "    \"kura\": \"https://github.com/eclipse/kura.git\",\n",
    "    \"jifa\": \"https://github.com/eclipse/microprofile.git\",\n",
    "    \"milo\": \"https://github.com/eclipse/milo.git\",\n",
    "    \"openvsx\": \"https://github.com/eclipse/openvsx.git\",\n",
    "    \"steady\": \"https://github.com/eclipse/steady.git\",\n",
    "    \"xtext\": \"https://github.com/eclipse/xtext.git\"\n",
    "}"
   ]
  },
  {
   "cell_type": "code",
   "execution_count": 20,
   "metadata": {},
   "outputs": [
    {
     "name": "stdout",
     "output_type": "stream",
     "text": [
      "(0, 11)\n"
     ]
    }
   ],
   "source": [
    "for project, url in a.items():\n",
    "    train_df, test_df = get_df(a,project)\n",
    "    model_(train_df,test_df)"
   ]
  }
 ],
 "metadata": {
  "kernelspec": {
   "display_name": "flask",
   "language": "python",
   "name": "python3"
  },
  "language_info": {
   "codemirror_mode": {
    "name": "ipython",
    "version": 3
   },
   "file_extension": ".py",
   "mimetype": "text/x-python",
   "name": "python",
   "nbconvert_exporter": "python",
   "pygments_lexer": "ipython3",
   "version": "3.11.4"
  }
 },
 "nbformat": 4,
 "nbformat_minor": 2
}
